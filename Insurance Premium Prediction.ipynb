{
 "cells": [
  {
   "cell_type": "markdown",
   "id": "83543a4f-b27a-4d55-991b-eca67681c213",
   "metadata": {},
   "source": [
    "# Problem Statement:\n",
    "\n",
    "### The goal of this project is to give people an estimate of how much they need based on their individual health situation. "
   ]
  },
  {
   "cell_type": "markdown",
   "id": "8f0247d3-69c2-4983-9526-f1d5c3b1bdfc",
   "metadata": {
    "tags": []
   },
   "source": [
    "# About Dataset\n",
    "\n",
    "## Context\n",
    "\n",
    "### The insurance.csv dataset contains 1338 observations (rows) and 7 features (columns). The dataset contains 4 numerical features (age, bmi, children and expenses) and 3 nominal features (sex, smoker and region) that were converted into factors with numerical value designated for each level.\n",
    "\n",
    "## Acknowledgements\n",
    "\n",
    "### Insurance.csv file is obtained from the Machine Learning course website (Spring 2017) from Professor Eric Suess at http://www.sci.csueastbay.edu/~esuess/stat6620/#week-6.\n",
    "\n",
    "\n",
    "\n"
   ]
  },
  {
   "cell_type": "markdown",
   "id": "93cd2f1a-62ca-4267-9769-9f583002bace",
   "metadata": {
    "jp-MarkdownHeadingCollapsed": true,
    "tags": []
   },
   "source": [
    "###  1. Get the Data\n"
   ]
  },
  {
   "cell_type": "code",
   "execution_count": null,
   "id": "2ac9875f-3a95-4cb3-a3f1-3f769f873527",
   "metadata": {},
   "outputs": [],
   "source": [
    "import pandas as pd\n",
    "import opendatasets as od\n",
    "import warnings\n",
    "warnings.filterwarnings('ignore')"
   ]
  },
  {
   "cell_type": "code",
   "execution_count": null,
   "id": "f08f2ddf-750b-445e-bb52-0a4fcf46d7c2",
   "metadata": {},
   "outputs": [],
   "source": [
    "od.download(\"https://www.kaggle.com/datasets/noordeen/insurance-premium-prediction\")"
   ]
  },
  {
   "cell_type": "code",
   "execution_count": null,
   "id": "0d07883d-f296-4d85-8b2b-e9efe697f3fb",
   "metadata": {},
   "outputs": [],
   "source": [
    "data = pd.read_csv(\"insurance-premium-prediction/insurance.csv\")"
   ]
  },
  {
   "cell_type": "code",
   "execution_count": null,
   "id": "0ac6e9c3-9d2d-41fd-a3d5-d8023fd48020",
   "metadata": {},
   "outputs": [],
   "source": [
    "data"
   ]
  },
  {
   "cell_type": "code",
   "execution_count": null,
   "id": "3dab4d2c-b9fa-4a3a-9b79-5cbf3c6e8e9f",
   "metadata": {},
   "outputs": [],
   "source": [
    "data.isna().sum()"
   ]
  },
  {
   "cell_type": "code",
   "execution_count": null,
   "id": "ad97b855",
   "metadata": {},
   "outputs": [],
   "source": [
    "data.describe()"
   ]
  },
  {
   "cell_type": "code",
   "execution_count": null,
   "id": "a42c30d5-25db-4a22-9e99-75da2f37868d",
   "metadata": {},
   "outputs": [],
   "source": [
    "data.info()"
   ]
  },
  {
   "cell_type": "code",
   "execution_count": null,
   "id": "97a05301-3d41-4aba-a8de-b78d7e01a6b9",
   "metadata": {},
   "outputs": [],
   "source": [
    "data['region'].value_counts()"
   ]
  },
  {
   "cell_type": "code",
   "execution_count": null,
   "id": "17e712ab-1cc7-4e63-b8b2-c3fabece025a",
   "metadata": {},
   "outputs": [],
   "source": [
    "data.groupby('sex').count()"
   ]
  },
  {
   "cell_type": "code",
   "execution_count": null,
   "id": "bfa19592-0e61-4e7d-b9bf-08a40385f387",
   "metadata": {},
   "outputs": [],
   "source": [
    "# Preprocessing\n",
    "\n",
    "import matplotlib.pyplot as plt \n",
    "import seaborn as sns\n",
    "from sklearn.preprocessing import LabelEncoder\n",
    "from sklearn.preprocessing import StandardScaler\n",
    "from sklearn.preprocessing import MinMaxScaler"
   ]
  },
  {
   "cell_type": "code",
   "execution_count": null,
   "id": "eba588b6-ec71-4e57-a18b-f7d43282c69e",
   "metadata": {},
   "outputs": [],
   "source": [
    "data.groupby('sex')['expenses'].count().plot.bar();"
   ]
  },
  {
   "cell_type": "markdown",
   "id": "72b26632-4c90-4627-b65b-5d3995bdeaf1",
   "metadata": {},
   "source": [
    "### Labelized"
   ]
  },
  {
   "cell_type": "code",
   "execution_count": null,
   "id": "be945960-fbc7-471a-b1dc-f4fefb939d5c",
   "metadata": {},
   "outputs": [],
   "source": [
    "le=LabelEncoder()"
   ]
  },
  {
   "cell_type": "code",
   "execution_count": null,
   "id": "bb7c0af9-d41c-45ca-9195-017e2ca1d3ed",
   "metadata": {},
   "outputs": [],
   "source": [
    "cat_col=data.select_dtypes(exclude=['int','float']).columns"
   ]
  },
  {
   "cell_type": "code",
   "execution_count": null,
   "id": "636ac0d2-5e49-441e-be1e-69257b0b14be",
   "metadata": {},
   "outputs": [],
   "source": [
    "cat_col"
   ]
  },
  {
   "cell_type": "code",
   "execution_count": null,
   "id": "46b0b18b-a93a-4f57-aa20-9343541a9011",
   "metadata": {},
   "outputs": [],
   "source": [
    "data[cat_col]=data[cat_col].apply(lambda x : le.fit_transform(x))"
   ]
  },
  {
   "cell_type": "code",
   "execution_count": null,
   "id": "d9aab62e-1e89-4df6-bc0e-984431503005",
   "metadata": {},
   "outputs": [],
   "source": [
    "data[cat_col]"
   ]
  },
  {
   "cell_type": "code",
   "execution_count": null,
   "id": "3330370d-0dee-4885-868a-92c6c16d8cd9",
   "metadata": {},
   "outputs": [],
   "source": [
    "data"
   ]
  },
  {
   "cell_type": "code",
   "execution_count": null,
   "id": "157529fb-e087-4f64-a95d-2b85d2804bc7",
   "metadata": {},
   "outputs": [],
   "source": [
    "sns.kdeplot(data['expenses']);"
   ]
  },
  {
   "cell_type": "code",
   "execution_count": 11,
   "id": "e987911e-f2bf-4721-b9a3-5637ea4b3ff8",
   "metadata": {},
   "outputs": [
    {
     "ename": "NameError",
     "evalue": "name 'sns' is not defined",
     "output_type": "error",
     "traceback": [
      "\u001b[1;31m---------------------------------------------------------------------------\u001b[0m",
      "\u001b[1;31mNameError\u001b[0m                                 Traceback (most recent call last)",
      "Input \u001b[1;32mIn [11]\u001b[0m, in \u001b[0;36m<cell line: 1>\u001b[1;34m()\u001b[0m\n\u001b[1;32m----> 1\u001b[0m \u001b[43msns\u001b[49m\u001b[38;5;241m.\u001b[39mkdeplot(data[\u001b[38;5;124m'\u001b[39m\u001b[38;5;124mage\u001b[39m\u001b[38;5;124m'\u001b[39m])\n",
      "\u001b[1;31mNameError\u001b[0m: name 'sns' is not defined"
     ]
    }
   ],
   "source": [
    "sns.kdeplot(data['age']);"
   ]
  },
  {
   "cell_type": "code",
   "execution_count": null,
   "id": "3e2ff1cd-0578-4556-916a-8a4d6b6fbef4",
   "metadata": {},
   "outputs": [],
   "source": [
    "\n",
    "plt.figure(figsize=(12,10))\n",
    "sns.countplot(data['sex']);"
   ]
  },
  {
   "cell_type": "code",
   "execution_count": 12,
   "id": "840c8402-49a4-44a5-93b4-24973a83fb82",
   "metadata": {},
   "outputs": [
    {
     "ename": "NameError",
     "evalue": "name 'plt' is not defined",
     "output_type": "error",
     "traceback": [
      "\u001b[1;31m---------------------------------------------------------------------------\u001b[0m",
      "\u001b[1;31mNameError\u001b[0m                                 Traceback (most recent call last)",
      "Input \u001b[1;32mIn [12]\u001b[0m, in \u001b[0;36m<cell line: 1>\u001b[1;34m()\u001b[0m\n\u001b[1;32m----> 1\u001b[0m \u001b[43mplt\u001b[49m\u001b[38;5;241m.\u001b[39mfigure(figsize\u001b[38;5;241m=\u001b[39m(\u001b[38;5;241m12\u001b[39m,\u001b[38;5;241m10\u001b[39m))\n\u001b[0;32m      2\u001b[0m sns\u001b[38;5;241m.\u001b[39mscatterplot(y\u001b[38;5;241m=\u001b[39mdata[\u001b[38;5;124m'\u001b[39m\u001b[38;5;124mage\u001b[39m\u001b[38;5;124m'\u001b[39m],x\u001b[38;5;241m=\u001b[39mdata[\u001b[38;5;124m'\u001b[39m\u001b[38;5;124mexpenses\u001b[39m\u001b[38;5;124m'\u001b[39m],hue\u001b[38;5;241m=\u001b[39mdata[\u001b[38;5;124m'\u001b[39m\u001b[38;5;124msex\u001b[39m\u001b[38;5;124m'\u001b[39m])\n\u001b[0;32m      3\u001b[0m plt\u001b[38;5;241m.\u001b[39mshow()\n",
      "\u001b[1;31mNameError\u001b[0m: name 'plt' is not defined"
     ]
    }
   ],
   "source": [
    "plt.figure(figsize=(12,10))\n",
    "sns.scatterplot(y=data['age'],x=data['expenses'],hue=data['sex'])\n",
    "plt.show()"
   ]
  },
  {
   "cell_type": "code",
   "execution_count": null,
   "id": "1f620de9-4a5f-4942-9c4c-a5595b3ce5e4",
   "metadata": {},
   "outputs": [],
   "source": [
    "data.corr()"
   ]
  },
  {
   "cell_type": "code",
   "execution_count": 13,
   "id": "dce7f13e-5869-46f8-92df-6762bd4ac829",
   "metadata": {},
   "outputs": [
    {
     "ename": "NameError",
     "evalue": "name 'plt' is not defined",
     "output_type": "error",
     "traceback": [
      "\u001b[1;31m---------------------------------------------------------------------------\u001b[0m",
      "\u001b[1;31mNameError\u001b[0m                                 Traceback (most recent call last)",
      "Input \u001b[1;32mIn [13]\u001b[0m, in \u001b[0;36m<cell line: 1>\u001b[1;34m()\u001b[0m\n\u001b[1;32m----> 1\u001b[0m \u001b[43mplt\u001b[49m\u001b[38;5;241m.\u001b[39mfigure(figsize\u001b[38;5;241m=\u001b[39m(\u001b[38;5;241m12\u001b[39m,\u001b[38;5;241m10\u001b[39m))\n\u001b[0;32m      2\u001b[0m sns\u001b[38;5;241m.\u001b[39mheatmap(data\u001b[38;5;241m.\u001b[39mcorr(),annot\u001b[38;5;241m=\u001b[39m\u001b[38;5;28;01mTrue\u001b[39;00m,cmap\u001b[38;5;241m=\u001b[39m\u001b[38;5;124m'\u001b[39m\u001b[38;5;124mviridis\u001b[39m\u001b[38;5;124m'\u001b[39m)\n\u001b[0;32m      3\u001b[0m plt\u001b[38;5;241m.\u001b[39mshow()\n",
      "\u001b[1;31mNameError\u001b[0m: name 'plt' is not defined"
     ]
    }
   ],
   "source": [
    "plt.figure(figsize=(12,10))\n",
    "sns.heatmap(data.corr(),annot=True,cmap='viridis')\n",
    "plt.show()"
   ]
  },
  {
   "cell_type": "code",
   "execution_count": null,
   "id": "70ffadcf-0c3d-4860-8f17-8892382df638",
   "metadata": {},
   "outputs": [],
   "source": [
    "# drop feature region  as it has negative co-relation with expenses\n",
    "data.drop(columns=\"region\",inplace=True)"
   ]
  },
  {
   "cell_type": "code",
   "execution_count": null,
   "id": "52ae3efb-238b-4f15-9715-c164e5be5b0c",
   "metadata": {},
   "outputs": [],
   "source": [
    "plt.figure(figsize=(12,10))\n",
    "sns.heatmap(data.corr(),annot=True,cmap='viridis')\n",
    "plt.show()"
   ]
  },
  {
   "cell_type": "code",
   "execution_count": 14,
   "id": "53e34ea5-49dc-4492-b0d9-15271e0f77c6",
   "metadata": {
    "tags": []
   },
   "outputs": [
    {
     "ename": "NameError",
     "evalue": "name 'plt' is not defined",
     "output_type": "error",
     "traceback": [
      "\u001b[1;31m---------------------------------------------------------------------------\u001b[0m",
      "\u001b[1;31mNameError\u001b[0m                                 Traceback (most recent call last)",
      "Input \u001b[1;32mIn [14]\u001b[0m, in \u001b[0;36m<cell line: 1>\u001b[1;34m()\u001b[0m\n\u001b[1;32m----> 1\u001b[0m \u001b[43mplt\u001b[49m\u001b[38;5;241m.\u001b[39mfigure(figsize\u001b[38;5;241m=\u001b[39m(\u001b[38;5;241m12\u001b[39m,\u001b[38;5;241m10\u001b[39m))\n\u001b[0;32m      2\u001b[0m sns\u001b[38;5;241m.\u001b[39mkdeplot(data[\u001b[38;5;124m'\u001b[39m\u001b[38;5;124mexpenses\u001b[39m\u001b[38;5;124m'\u001b[39m],shade\u001b[38;5;241m=\u001b[39m\u001b[38;5;28;01mTrue\u001b[39;00m);\n\u001b[0;32m      3\u001b[0m plt\u001b[38;5;241m.\u001b[39maxvline(data[\u001b[38;5;124m'\u001b[39m\u001b[38;5;124mexpenses\u001b[39m\u001b[38;5;124m'\u001b[39m]\u001b[38;5;241m.\u001b[39mmean(),color\u001b[38;5;241m=\u001b[39m\u001b[38;5;124m'\u001b[39m\u001b[38;5;124mred\u001b[39m\u001b[38;5;124m'\u001b[39m,linewidth\u001b[38;5;241m=\u001b[39m\u001b[38;5;241m2\u001b[39m)\n",
      "\u001b[1;31mNameError\u001b[0m: name 'plt' is not defined"
     ]
    }
   ],
   "source": [
    "plt.figure(figsize=(12,10))\n",
    "sns.kdeplot(data['expenses'],shade=True);\n",
    "plt.axvline(data['expenses'].mean(),color='red',linewidth=2)\n",
    "plt.axvline(data['expenses'].median(),color='green',linewidth=2)\n",
    "plt.show()"
   ]
  },
  {
   "cell_type": "code",
   "execution_count": 15,
   "id": "50fe5985-5825-4926-bd18-088ae51c25f3",
   "metadata": {},
   "outputs": [
    {
     "ename": "NameError",
     "evalue": "name 'plt' is not defined",
     "output_type": "error",
     "traceback": [
      "\u001b[1;31m---------------------------------------------------------------------------\u001b[0m",
      "\u001b[1;31mNameError\u001b[0m                                 Traceback (most recent call last)",
      "Input \u001b[1;32mIn [15]\u001b[0m, in \u001b[0;36m<cell line: 1>\u001b[1;34m()\u001b[0m\n\u001b[1;32m----> 1\u001b[0m \u001b[43mplt\u001b[49m\u001b[38;5;241m.\u001b[39mfigure(figsize\u001b[38;5;241m=\u001b[39m(\u001b[38;5;241m35\u001b[39m,\u001b[38;5;241m35\u001b[39m))\n\u001b[0;32m      2\u001b[0m sns\u001b[38;5;241m.\u001b[39mpairplot(data,hue\u001b[38;5;241m=\u001b[39m\u001b[38;5;124m'\u001b[39m\u001b[38;5;124msex\u001b[39m\u001b[38;5;124m'\u001b[39m, size\u001b[38;5;241m=\u001b[39m\u001b[38;5;241m4\u001b[39m)\n\u001b[0;32m      3\u001b[0m plt\u001b[38;5;241m.\u001b[39mshow()\n",
      "\u001b[1;31mNameError\u001b[0m: name 'plt' is not defined"
     ]
    }
   ],
   "source": [
    "plt.figure(figsize=(35,35))\n",
    "sns.pairplot(data,hue='sex', size=4)\n",
    "plt.show()"
   ]
  },
  {
   "cell_type": "code",
   "execution_count": null,
   "id": "11e49473-7934-48a4-8e92-521314aab4fd",
   "metadata": {},
   "outputs": [],
   "source": [
    "\n",
    "data.groupby(by='sex').corr()"
   ]
  },
  {
   "cell_type": "code",
   "execution_count": 16,
   "id": "a28c4038-9e0f-479a-a5c1-b7d26eb9f0c0",
   "metadata": {},
   "outputs": [
    {
     "ename": "NameError",
     "evalue": "name 'plt' is not defined",
     "output_type": "error",
     "traceback": [
      "\u001b[1;31m---------------------------------------------------------------------------\u001b[0m",
      "\u001b[1;31mNameError\u001b[0m                                 Traceback (most recent call last)",
      "Input \u001b[1;32mIn [16]\u001b[0m, in \u001b[0;36m<cell line: 1>\u001b[1;34m()\u001b[0m\n\u001b[1;32m----> 1\u001b[0m \u001b[43mplt\u001b[49m\u001b[38;5;241m.\u001b[39mfigure(figsize\u001b[38;5;241m=\u001b[39m(\u001b[38;5;241m12\u001b[39m,\u001b[38;5;241m10\u001b[39m))\n\u001b[0;32m      2\u001b[0m sns\u001b[38;5;241m.\u001b[39mheatmap(data\u001b[38;5;241m.\u001b[39mgroupby(by\u001b[38;5;241m=\u001b[39m\u001b[38;5;124m'\u001b[39m\u001b[38;5;124msex\u001b[39m\u001b[38;5;124m'\u001b[39m)\u001b[38;5;241m.\u001b[39mcorr(),annot\u001b[38;5;241m=\u001b[39m\u001b[38;5;28;01mTrue\u001b[39;00m,cmap\u001b[38;5;241m=\u001b[39m\u001b[38;5;124m'\u001b[39m\u001b[38;5;124mviridis\u001b[39m\u001b[38;5;124m'\u001b[39m)\n\u001b[0;32m      3\u001b[0m plt\u001b[38;5;241m.\u001b[39mshow()\n",
      "\u001b[1;31mNameError\u001b[0m: name 'plt' is not defined"
     ]
    }
   ],
   "source": [
    "plt.figure(figsize=(12,10))\n",
    "sns.heatmap(data.groupby(by='sex').corr(),annot=True,cmap='viridis')\n",
    "plt.show()"
   ]
  },
  {
   "cell_type": "code",
   "execution_count": null,
   "id": "13e59e48-12ff-45d8-811c-83a9b2104d0a",
   "metadata": {},
   "outputs": [],
   "source": [
    "from sklearn.linear_model import LinearRegression\n",
    "from sklearn.tree import DecisionTreeRegressor\n",
    "from sklearn.svm import SVR\n",
    "from sklearn.ensemble import AdaBoostRegressor\n",
    "from sklearn.ensemble import BaggingRegressor\n",
    "from sklearn.ensemble import GradientBoostingRegressor\n",
    "from sklearn.ensemble import RandomForestRegressor\n",
    "from sklearn.neighbors import KNeighborsRegressor\n",
    "from xgboost import XGBRegressor\n",
    "from sklearn.model_selection import GridSearchCV"
   ]
  },
  {
   "cell_type": "code",
   "execution_count": 30,
   "id": "ad7fbe74-6ad4-4088-995a-15fa7adbfe23",
   "metadata": {},
   "outputs": [],
   "source": [
    "from sklearn.model_selection import train_test_split"
   ]
  },
  {
   "cell_type": "code",
   "execution_count": 31,
   "id": "f13607f4-3e5b-4ff4-856e-596b9392d223",
   "metadata": {},
   "outputs": [],
   "source": [
    "X = data.drop(columns='expenses')\n",
    "y=data['expenses']\n",
    "num_col=X.select_dtypes(include=['int','float']).columns"
   ]
  },
  {
   "cell_type": "markdown",
   "id": "8c1a8862-df2c-4f48-8740-dfb44c043dd9",
   "metadata": {},
   "source": [
    "## Scalized"
   ]
  },
  {
   "cell_type": "code",
   "execution_count": 32,
   "id": "76a39223-1341-4d6c-9f67-5fb2c710866e",
   "metadata": {},
   "outputs": [],
   "source": [
    "sc=StandardScaler()\n",
    "X[num_col]=sc.fit_transform(X[num_col])"
   ]
  },
  {
   "cell_type": "code",
   "execution_count": 6,
   "id": "f5f8fece",
   "metadata": {},
   "outputs": [
    {
     "ename": "NameError",
     "evalue": "name 'x' is not defined",
     "output_type": "error",
     "traceback": [
      "\u001b[1;31m---------------------------------------------------------------------------\u001b[0m",
      "\u001b[1;31mNameError\u001b[0m                                 Traceback (most recent call last)",
      "Input \u001b[1;32mIn [6]\u001b[0m, in \u001b[0;36m<cell line: 1>\u001b[1;34m()\u001b[0m\n\u001b[1;32m----> 1\u001b[0m \u001b[43mx\u001b[49m\n",
      "\u001b[1;31mNameError\u001b[0m: name 'x' is not defined"
     ]
    }
   ],
   "source": [
    "x"
   ]
  },
  {
   "cell_type": "markdown",
   "id": "3cbe2a6c-928d-4ea1-be06-6cd54c1c9484",
   "metadata": {},
   "source": [
    "## Spliting the X & y"
   ]
  },
  {
   "cell_type": "code",
   "execution_count": 33,
   "id": "769b87bc-1d4c-4714-b827-a7691b81100b",
   "metadata": {},
   "outputs": [],
   "source": [
    "X_train,X_test,y_train,y_test = train_test_split(X,y,test_size=0.2)"
   ]
  },
  {
   "cell_type": "markdown",
   "id": "19f23861-1d3a-49d4-9038-c8382022fff2",
   "metadata": {},
   "source": [
    "## HyperTuning model and param"
   ]
  },
  {
   "cell_type": "code",
   "execution_count": 34,
   "id": "eacda869-2b09-46a9-9d85-b36a489da8f9",
   "metadata": {},
   "outputs": [],
   "source": [
    "model_parameter ={\n",
    "\n",
    "\"Linear_Regression\" :{\n",
    "                        \"model\" : LinearRegression(),\n",
    "                        \"param\" : {}\n",
    "                    },\n",
    "\n",
    "\"Decision_Tree_Regressor\" :{\n",
    "                        \"model\" : DecisionTreeRegressor(),\n",
    "                        \"param\" : {\n",
    "                                   'splitter' : [\"best\"],\n",
    "                                   'ccp_alpha':[0.1,0.0,0.3]\n",
    "                                  }\n",
    "                            },\n",
    "\n",
    "\"SVR\" : {\n",
    "                        \"model\" : SVR(),\n",
    "                        \"param\" : {}\n",
    "       },\n",
    "\n",
    "\"KNeighbors_Classifier_Regressor\" : {\n",
    "                        \"model\" : KNeighborsRegressor(),\n",
    "                        \"param\" : {'n_neighbors' : [4,5,6],\n",
    "                                  'weights' : ['uniform', 'distance']\n",
    "                                  }\n",
    "},\n",
    "                       \n",
    "\n",
    "\"Random_Forest_Regressor\" :{\n",
    "                    \"model\" : RandomForestRegressor(),\n",
    "                    \"param\" : {'criterion' : [\"squared_error\", \"absolute_error\"],\n",
    "                              'n_estimators':[100,85,90]\n",
    "                              }\n",
    "                      },\n",
    " \"Bagging_Regressor\" :{\n",
    "                    \"model\" : BaggingRegressor(base_estimator=SVR(),random_state=0),\n",
    "                    \"param\" : {'n_estimators':[10,100]}\n",
    "                      },\n",
    "    \n",
    "\n",
    "\n",
    " \"AdaBoost_Regressor\" :{\n",
    "                    \"model\" : AdaBoostRegressor(),\n",
    "                    \"param\" : {}\n",
    "                      },\n",
    "\n",
    "\"Gradient_Boosting_Regressor\" :{\n",
    "                    \"model\" : GradientBoostingRegressor(),\n",
    "                    \"param\" : {}\n",
    "                      },\n",
    "\n",
    "\"XGB_Regressor\" :{\n",
    "                    \"model\" : XGBRegressor(),\n",
    "                    \"param\" : {}\n",
    "                      },\n",
    "}"
   ]
  },
  {
   "cell_type": "code",
   "execution_count": 35,
   "id": "182926d3-12fa-4ff5-9a4e-b421ab37cbf1",
   "metadata": {},
   "outputs": [],
   "source": [
    "Report = []\n",
    "for model_name ,model_param in model_parameter.items():\n",
    "    gs = GridSearchCV(model_param['model'],model_param['param'],cv = 5,return_train_score=False)\n",
    "    gs.fit(X_train,y_train)\n",
    "    Report.append({'Model': model_name,\n",
    "                 'Best_Score' : gs.best_score_,\n",
    "                 'Best_Parameter' : gs.best_params_})\n",
    "\n",
    "Model_Report = pd.DataFrame(Report,columns=['Model','Best_Score','Best_Parameter'])"
   ]
  },
  {
   "cell_type": "code",
   "execution_count": 36,
   "id": "235ecb6c-7ebc-42a2-bb61-be59fabcec5b",
   "metadata": {},
   "outputs": [
    {
     "data": {
      "text/html": [
       "<div>\n",
       "<style scoped>\n",
       "    .dataframe tbody tr th:only-of-type {\n",
       "        vertical-align: middle;\n",
       "    }\n",
       "\n",
       "    .dataframe tbody tr th {\n",
       "        vertical-align: top;\n",
       "    }\n",
       "\n",
       "    .dataframe thead th {\n",
       "        text-align: right;\n",
       "    }\n",
       "</style>\n",
       "<table border=\"1\" class=\"dataframe\">\n",
       "  <thead>\n",
       "    <tr style=\"text-align: right;\">\n",
       "      <th></th>\n",
       "      <th>Model</th>\n",
       "      <th>Best_Score</th>\n",
       "      <th>Best_Parameter</th>\n",
       "    </tr>\n",
       "  </thead>\n",
       "  <tbody>\n",
       "    <tr>\n",
       "      <th>7</th>\n",
       "      <td>Gradient_Boosting_Regressor</td>\n",
       "      <td>0.851847</td>\n",
       "      <td>{}</td>\n",
       "    </tr>\n",
       "    <tr>\n",
       "      <th>4</th>\n",
       "      <td>Random_Forest_Regressor</td>\n",
       "      <td>0.825564</td>\n",
       "      <td>{'criterion': 'squared_error', 'n_estimators':...</td>\n",
       "    </tr>\n",
       "    <tr>\n",
       "      <th>3</th>\n",
       "      <td>KNeighbors_Classifier_Regressor</td>\n",
       "      <td>0.820967</td>\n",
       "      <td>{'n_neighbors': 6, 'weights': 'uniform'}</td>\n",
       "    </tr>\n",
       "    <tr>\n",
       "      <th>6</th>\n",
       "      <td>AdaBoost_Regressor</td>\n",
       "      <td>0.806599</td>\n",
       "      <td>{}</td>\n",
       "    </tr>\n",
       "    <tr>\n",
       "      <th>8</th>\n",
       "      <td>XGB_Regressor</td>\n",
       "      <td>0.795223</td>\n",
       "      <td>{}</td>\n",
       "    </tr>\n",
       "    <tr>\n",
       "      <th>0</th>\n",
       "      <td>Linear_Regression</td>\n",
       "      <td>0.748869</td>\n",
       "      <td>{}</td>\n",
       "    </tr>\n",
       "    <tr>\n",
       "      <th>1</th>\n",
       "      <td>Decision_Tree_Regressor</td>\n",
       "      <td>0.708432</td>\n",
       "      <td>{'ccp_alpha': 0.3, 'splitter': 'best'}</td>\n",
       "    </tr>\n",
       "    <tr>\n",
       "      <th>5</th>\n",
       "      <td>Bagging_Regressor</td>\n",
       "      <td>-0.105179</td>\n",
       "      <td>{'n_estimators': 10}</td>\n",
       "    </tr>\n",
       "    <tr>\n",
       "      <th>2</th>\n",
       "      <td>SVR</td>\n",
       "      <td>-0.107787</td>\n",
       "      <td>{}</td>\n",
       "    </tr>\n",
       "  </tbody>\n",
       "</table>\n",
       "</div>"
      ],
      "text/plain": [
       "                             Model  Best_Score  \\\n",
       "7      Gradient_Boosting_Regressor    0.851847   \n",
       "4          Random_Forest_Regressor    0.825564   \n",
       "3  KNeighbors_Classifier_Regressor    0.820967   \n",
       "6               AdaBoost_Regressor    0.806599   \n",
       "8                    XGB_Regressor    0.795223   \n",
       "0                Linear_Regression    0.748869   \n",
       "1          Decision_Tree_Regressor    0.708432   \n",
       "5                Bagging_Regressor   -0.105179   \n",
       "2                              SVR   -0.107787   \n",
       "\n",
       "                                      Best_Parameter  \n",
       "7                                                 {}  \n",
       "4  {'criterion': 'squared_error', 'n_estimators':...  \n",
       "3           {'n_neighbors': 6, 'weights': 'uniform'}  \n",
       "6                                                 {}  \n",
       "8                                                 {}  \n",
       "0                                                 {}  \n",
       "1             {'ccp_alpha': 0.3, 'splitter': 'best'}  \n",
       "5                               {'n_estimators': 10}  \n",
       "2                                                 {}  "
      ]
     },
     "execution_count": 36,
     "metadata": {},
     "output_type": "execute_result"
    }
   ],
   "source": [
    "Model_Report.sort_values(by='Best_Score',ascending=False)"
   ]
  },
  {
   "cell_type": "code",
   "execution_count": 37,
   "id": "e08c4913-526b-4a1c-81a6-4f2f8995014b",
   "metadata": {},
   "outputs": [
    {
     "data": {
      "text/plain": [
       "array([10066.824  , 27609.195  , 15552.384  ,  7782.336  ,  9573.726  ,\n",
       "        4417.5464 , 13533.211  ,  6039.5586 ,  9264.508  , 17785.686  ,\n",
       "       17410.506  ,  1786.154  ,  8725.821  ,  4305.0024 ,  9353.103  ,\n",
       "       12651.421  , 33767.5    ,  3450.488  , 13861.167  ,  4675.5947 ,\n",
       "       14135.426  ,  1192.298  , 29705.465  ,  1210.4293 ,  6311.2495 ,\n",
       "       20173.506  ,  9256.528  , 16394.021  ,  6899.074  , 12555.286  ,\n",
       "        9931.486  , 10071.837  ,   710.7342 , 28097.227  ,  4232.803  ,\n",
       "        7742.23   ,  5802.721  ,  6486.261  , 20191.076  , 20886.248  ,\n",
       "       11465.281  ,  6284.0947 ,  9532.06   , 11724.107  , 39888.258  ,\n",
       "       41623.914  , 21308.146  , 10839.9375 , 19867.924  ,  2006.0054 ,\n",
       "       23056.588  ,  6817.743  , 14682.619  ,  9533.065  , 18025.053  ,\n",
       "        6602.4863 , 15576.417  ,  3112.492  , 41520.27   ,  4628.109  ,\n",
       "        9638.439  ,  2023.4198 , 14976.197  , 11302.815  ,  6056.125  ,\n",
       "        8514.4375 ,  3879.0503 , 37881.645  ,  5191.667  ,  2047.6958 ,\n",
       "       22221.256  , 10538.808  ,  -401.3971 , 21048.254  , 10517.087  ,\n",
       "       20522.969  ,  9036.3    ,  8442.15   ,  6047.8994 ,  8800.275  ,\n",
       "        5120.5103 , 11635.265  ,  7005.9287 , 17878.674  , 25027.77   ,\n",
       "       13386.658  , 20697.867  ,  2055.828  , 52740.223  ,  5417.385  ,\n",
       "        2066.6963 ,  9826.235  ,  5023.957  ,  8094.3384 ,  2299.4897 ,\n",
       "       10276.98   ,  8609.932  , 11386.214  ,  7473.1196 , 15265.904  ,\n",
       "        1516.013  ,  -136.0013 ,  8533.621  ,  2925.4233 , 11221.718  ,\n",
       "       50526.25   , 19116.502  ,  5530.452  , 10869.36   ,  9704.803  ,\n",
       "       14189.019  , 21131.22   , 13380.264  , 14100.05   , 43042.742  ,\n",
       "        9001.432  , 16078.     ,  6189.1455 ,  7083.597  , 10756.217  ,\n",
       "        2489.4197 ,  4585.1455 ,  8298.717  ,  3202.9453 ,  2360.0542 ,\n",
       "        1410.7418 , 11645.304  , 21842.49   , 44407.438  , 15568.064  ,\n",
       "        4912.273  , 11805.61   , 11119.167  , 13007.332  ,  3620.4297 ,\n",
       "       14714.68   ,  3410.3005 , 49128.008  ,  7763.5845 , 36006.832  ,\n",
       "       21221.781  ,  7680.0845 , 17315.922  ,  7184.6426 ,  4784.556  ,\n",
       "       44677.832  ,  3321.879  ,  1552.5997 ,  3796.8408 ,  3472.468  ,\n",
       "       -1251.6075 , 34712.52   , 10311.893  , 28602.03   ,  9372.933  ,\n",
       "        2111.1812 ,  8096.151  , 18114.914  ,  4918.2905 , 19545.621  ,\n",
       "       33664.152  ,  1389.7197 ,  2275.6128 , 18534.1    ,  9031.314  ,\n",
       "        9431.777  ,  5421.6665 , 26416.168  ,  5525.226  , 10443.945  ,\n",
       "       18074.918  ,  9697.148  ,  6598.2144 ,  6747.1455 , 21116.799  ,\n",
       "        1369.6108 , 12597.665  , 18663.992  , 43651.957  , 24465.922  ,\n",
       "        6697.4365 ,  3349.23   , 10233.015  ,  2211.1006 ,  1855.1864 ,\n",
       "       15538.155  ,  1499.1333 , 20660.12   ,  5824.01   , 48337.844  ,\n",
       "        1620.3993 ,  1271.9884 ,  4767.869  , 49583.86   , 20442.418  ,\n",
       "       45329.777  ,  2514.8354 , 11887.263  , 17463.68   , 14102.615  ,\n",
       "       16489.914  ,  4831.0757 , 10725.837  , 43131.316  , 13372.937  ,\n",
       "         931.5832 , 10211.563  , 11502.053  , 36764.453  ,  9274.791  ,\n",
       "       20758.047  , 16430.75   , 11848.114  , 11613.817  ,  8567.825  ,\n",
       "       45042.34   , 17974.158  ,  9101.348  , 15286.515  , 49070.45   ,\n",
       "       22667.117  , 10002.232  , 40705.63   , 41549.11   , 12447.782  ,\n",
       "        6299.955  ,  3043.311  , 43931.582  , 11997.834  ,  3084.4604 ,\n",
       "        9256.982  , 17492.555  ,  9933.727  ,  7709.468  ,   894.88794,\n",
       "       18653.633  , 53719.13   ,  2407.4807 , 17410.506  ,  4629.6685 ,\n",
       "       18129.094  , 13546.474  , 42205.945  ,  8008.4834 , 18425.508  ,\n",
       "        8537.861  , 23118.73   ,  9145.795  ,  4820.4854 , 15542.047  ,\n",
       "        7178.295  ,  9612.896  , 10314.443  ,  5417.755  , 18115.623  ,\n",
       "       44330.133  ,  6817.739  , 16912.4    ,  6026.579  ,  6655.9517 ,\n",
       "        6122.0713 ,  5317.575  , 11425.022  ,  4726.5454 , 20966.748  ,\n",
       "        2457.579  ,  4281.9336 ,  5672.2656 ], dtype=float32)"
      ]
     },
     "execution_count": 37,
     "metadata": {},
     "output_type": "execute_result"
    }
   ],
   "source": [
    "gs.predict(X_test)"
   ]
  },
  {
   "cell_type": "code",
   "execution_count": 38,
   "id": "e180f2e6-d744-423f-9fb3-52b365ecb8fd",
   "metadata": {},
   "outputs": [
    {
     "data": {
      "text/plain": [
       "['scaler.sc']"
      ]
     },
     "execution_count": 38,
     "metadata": {},
     "output_type": "execute_result"
    }
   ],
   "source": [
    "import joblib\n",
    "joblib.dump(gs,\"model.gbr\")\n",
    "joblib.dump(sc,\"scaler.sc\")"
   ]
  },
  {
   "cell_type": "code",
   "execution_count": null,
   "id": "9a436c9f-4a9f-4a74-a8f6-e234498ee94c",
   "metadata": {},
   "outputs": [],
   "source": []
  }
 ],
 "metadata": {
  "kernelspec": {
   "display_name": "Python 3 (ipykernel)",
   "language": "python",
   "name": "python3"
  },
  "language_info": {
   "codemirror_mode": {
    "name": "ipython",
    "version": 3
   },
   "file_extension": ".py",
   "mimetype": "text/x-python",
   "name": "python",
   "nbconvert_exporter": "python",
   "pygments_lexer": "ipython3",
   "version": "3.9.12"
  },
  "widgets": {
   "application/vnd.jupyter.widget-state+json": {
    "state": {},
    "version_major": 2,
    "version_minor": 0
   }
  }
 },
 "nbformat": 4,
 "nbformat_minor": 5
}
